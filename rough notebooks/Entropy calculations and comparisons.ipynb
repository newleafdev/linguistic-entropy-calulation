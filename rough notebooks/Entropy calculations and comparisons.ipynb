{
 "cells": [
  {
   "cell_type": "markdown",
   "metadata": {},
   "source": [
    "# Entropy Calculations\n",
    "Here we will perform entropy calculations and make comparisons"
   ]
  },
  {
   "cell_type": "code",
   "execution_count": null,
   "metadata": {},
   "outputs": [],
   "source": [
    "import pandas as pd\n",
    "from sudachipy import tokenizer, dictionary\n",
    "from collections import Counter\n",
    "import math\n",
    "\n",
    "# Step 1: Load the CSV file (update the file path as needed)\n",
    "csv_file_path = 'cleaned_sentences_UO.csv'  # Replace with your file path\n",
    "data = pd.read_csv(csv_file_path)\n",
    "\n",
    "# Step 2: Extract sentences from the 'sentence' column\n",
    "sentences = data['sentence'].dropna().tolist()\n",
    "\n",
    "# Step 3: Initialize SudachiPy tokenizer\n",
    "tokenizer_obj = dictionary.Dictionary().create()\n",
    "mode = tokenizer.Tokenizer.SplitMode.C  # Normal splitting mode\n",
    "\n",
    "# Step 4: Tokenize sentences\n",
    "tokens = []\n",
    "for sentence in sentences:\n",
    "    tokens.extend([m.surface() for m in tokenizer_obj.tokenize(sentence, mode)])\n",
    "\n",
    "# Step 5: Calculate unigram probabilities\n",
    "total_tokens = len(tokens)\n",
    "token_counts = Counter(tokens)\n",
    "token_probabilities = {token: count / total_tokens for token, count in token_counts.items()}\n",
    "\n",
    "# Step 6: Compute unigram entropy\n",
    "unigram_entropy = -sum(p * math.log2(p) for p in token_probabilities.values())\n",
    "\n",
    "# Output the results\n",
    "print(f\"Total Tokens: {total_tokens}\")\n",
    "print(f\"Unique Tokens: {len(token_counts)}\")\n",
    "print(f\"Unigram Entropy: {unigram_entropy:.4f} bits\")"
   ]
  }
 ],
 "metadata": {
  "kernelspec": {
   "display_name": "base",
   "language": "python",
   "name": "python3"
  },
  "language_info": {
   "codemirror_mode": {
    "name": "ipython",
    "version": 3
   },
   "file_extension": ".py",
   "mimetype": "text/x-python",
   "name": "python",
   "nbconvert_exporter": "python",
   "pygments_lexer": "ipython3",
   "version": "3.12.7"
  }
 },
 "nbformat": 4,
 "nbformat_minor": 2
}
